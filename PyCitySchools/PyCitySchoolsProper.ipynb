{
 "cells": [
  {
   "cell_type": "code",
   "execution_count": 264,
   "metadata": {},
   "outputs": [
    {
     "name": "stdout",
     "output_type": "stream",
     "text": [
      "   Total Schools  Total Students  Total Budget  Average Math Score  \\\n",
      "0             15           39170      24649428           78.985371   \n",
      "\n",
      "   Average Reading Score  % Passing Math  % Passing Reading  % Overall Passing  \n",
      "0               81.87784       72.392137          82.971662          60.801634  \n"
     ]
    }
   ],
   "source": [
    "# Import the Pandas library and read and merge the CSV files to create a comprehensive DataFrame.\n",
    "import pandas as pd\n",
    "merged_df = pd.read_csv('https://raw.githubusercontent.com/GBov81/pandas-challenge/main/schools_complete.csv')\\\n",
    "    .merge(pd.read_csv('https://raw.githubusercontent.com/GBov81/pandas-challenge/main/students_complete.csv'), on='school_name')\n",
    "\n",
    "# Calculate the total number of unique schools in the district.\n",
    "total_schools = merged_df['school_name'].nunique()\n",
    "\n",
    "# Calculate the total number of students and the combined budget for all schools.\n",
    "total_students = merged_df['Student ID'].nunique()\n",
    "total_budget = merged_df['budget'].unique().sum()\n",
    "\n",
    "# Calculate the average math and reading scores across all students and schools.\n",
    "average_math_score = merged_df['math_score'].mean()\n",
    "average_reading_score = merged_df['reading_score'].mean()\n",
    "\n",
    "# Calculate the percentage of students passing math and reading individually.\n",
    "percent_passing_math = (merged_df['math_score'] > 70).mean() * 100\n",
    "percent_passing_reading = (merged_df['reading_score'] > 70).mean() * 100\n",
    "\n",
    "# Calculate the percentage of students passing both subjects.\n",
    "percent_overall_passing = ((merged_df['math_score'] > 70) & (merged_df['reading_score'] > 70)).mean() * 100\n",
    "\n",
    "# Create and print a DataFrame for district-level summary metrics.\n",
    "district_summary_data = {\n",
    "    'Total Schools': [total_schools],\n",
    "    'Total Students': [total_students],\n",
    "    'Total Budget': [total_budget],\n",
    "    'Average Math Score': [average_math_score],\n",
    "    'Average Reading Score': [average_reading_score],\n",
    "    '% Passing Math': [percent_passing_math],\n",
    "    '% Passing Reading': [percent_passing_reading],\n",
    "    '% Overall Passing': [percent_overall_passing]}\n",
    "district_summary_df = pd.DataFrame(district_summary_data)\n",
    "print(district_summary_df)"
   ]
  },
  {
   "cell_type": "code",
   "execution_count": 265,
   "metadata": {},
   "outputs": [
    {
     "name": "stdout",
     "output_type": "stream",
     "text": [
      "              School Name School Type  Total Students  Total School Budget  \\\n",
      "0      Bailey High School    District            4976            3124928.0   \n",
      "1     Cabrera High School     Charter            1858            1081356.0   \n",
      "2    Figueroa High School    District            2949            1884411.0   \n",
      "3        Ford High School    District            2739            1763916.0   \n",
      "4     Griffin High School     Charter            1468             917500.0   \n",
      "5   Hernandez High School    District            4635            3022020.0   \n",
      "6      Holden High School     Charter             427             248087.0   \n",
      "7       Huang High School    District            2917            1910635.0   \n",
      "8     Johnson High School    District            4761            3094650.0   \n",
      "9        Pena High School     Charter             962             585858.0   \n",
      "10  Rodriguez High School    District            3999            2547363.0   \n",
      "11    Shelton High School     Charter            1761            1056600.0   \n",
      "12     Thomas High School     Charter            1635            1043130.0   \n",
      "13     Wilson High School     Charter            2283            1319574.0   \n",
      "14     Wright High School     Charter            1800            1049400.0   \n",
      "\n",
      "    Average Math Score  Average Reading Score  % Passing Math  \\\n",
      "0            77.048432              81.033963       66.680064   \n",
      "1            83.061895              83.975780       94.133477   \n",
      "2            76.711767              81.158020       65.988471   \n",
      "3            77.102592              80.746258       68.309602   \n",
      "4            83.351499              83.816757       93.392371   \n",
      "5            77.289752              80.934412       66.752967   \n",
      "6            83.803279              83.814988       92.505855   \n",
      "7            76.629414              81.182722       65.683922   \n",
      "8            77.072464              80.966394       66.057551   \n",
      "9            83.839917              84.044699       94.594595   \n",
      "10           76.842711              80.744686       66.366592   \n",
      "11           83.359455              83.725724       93.867121   \n",
      "12           83.418349              83.848930       93.272171   \n",
      "13           83.274201              83.989488       93.867718   \n",
      "14           83.682222              83.955000       93.333333   \n",
      "\n",
      "    % Passing Reading  % Overall Passing  Per Student Budget  \n",
      "0           81.933280          54.642283               628.0  \n",
      "1           97.039828          91.334769               582.0  \n",
      "2           80.739234          53.204476               639.0  \n",
      "3           79.299014          54.289887               644.0  \n",
      "4           97.138965          90.599455               625.0  \n",
      "5           80.862999          53.527508               652.0  \n",
      "6           96.252927          89.227166               581.0  \n",
      "7           81.316421          53.513884               655.0  \n",
      "8           81.222432          53.539172               650.0  \n",
      "9           95.945946          90.540541               609.0  \n",
      "10          80.220055          52.988247               637.0  \n",
      "11          95.854628          89.892107               600.0  \n",
      "12          97.308869          90.948012               638.0  \n",
      "13          96.539641          90.582567               578.0  \n",
      "14          96.611111          90.333333               583.0  \n"
     ]
    }
   ],
   "source": [
    "# Group the merged dataset by school name and type, then calculate necessary metrics.\n",
    "school_summary_df = merged_df.groupby(['school_name', 'type']).agg({\n",
    "    'Student ID': 'count',\n",
    "    'budget': 'mean',\n",
    "    'math_score': 'mean',\n",
    "    'reading_score': 'mean'}).reset_index()\n",
    "\n",
    "# Calculate the passing percentages for math, reading, and overall passing for each school.\n",
    "passing_math = (merged_df['math_score'] >= 70).groupby([merged_df['school_name'], merged_df['type']]).mean() * 100\n",
    "passing_reading = (merged_df['reading_score'] >= 70).groupby([merged_df['school_name'], merged_df['type']]).mean() * 100\n",
    "passing_overall = ((merged_df['math_score'] >= 70) & (merged_df['reading_score'] >= 70)).groupby([merged_df['school_name'], merged_df['type']]).mean() * 100\n",
    "\n",
    "# Assign the calculated passing percentages to the school_summary_df with renamed columns.\n",
    "school_summary_df['% Passing Math'] = passing_math.values\n",
    "school_summary_df['% Passing Reading'] = passing_reading.values\n",
    "school_summary_df['% Overall Passing'] = passing_overall.values\n",
    "\n",
    "# Calculate the per student budget for each school.\n",
    "school_summary_df['Per Student Budget'] = school_summary_df['budget'] / school_summary_df['Student ID']\n",
    "\n",
    "# Rename columns for better clarity and print.\n",
    "school_summary_df.rename(columns={\n",
    "    'school_name': 'School Name',\n",
    "    'type': 'School Type',\n",
    "    'Student ID': 'Total Students',\n",
    "    'budget': 'Total School Budget',\n",
    "    'math_score': 'Average Math Score',\n",
    "    'reading_score': 'Average Reading Score'}, inplace=True)\n",
    "print(school_summary_df)"
   ]
  },
  {
   "cell_type": "code",
   "execution_count": 266,
   "metadata": {},
   "outputs": [],
   "source": [
    "# Identify the top 5 performing schools based on % Overall Passing and store them in 'top_schools'.\n",
    "top_schools = school_summary_df.sort_values(by=\"% Overall Passing\", ascending=False).head(5)"
   ]
  },
  {
   "cell_type": "code",
   "execution_count": 267,
   "metadata": {},
   "outputs": [],
   "source": [
    "# Identify the bottom 5 performing schools based on % Overall Passing and store them in 'bottom_schools'.\n",
    "bottom_schools = school_summary_df.sort_values(by=\"% Overall Passing\").head(5)"
   ]
  },
  {
   "cell_type": "code",
   "execution_count": 268,
   "metadata": {},
   "outputs": [],
   "source": [
    "# Calculate average math scores by grade for each school using a pivot table.\n",
    "math_scores_by_grade = merged_df.pivot_table(values='math_score', index='school_name', columns='grade', aggfunc='mean')"
   ]
  },
  {
   "cell_type": "code",
   "execution_count": 269,
   "metadata": {},
   "outputs": [],
   "source": [
    "# Calculate average reading scores by grade for each school using a pivot table.\n",
    "reading_scores_by_grade = merged_df.pivot_table(values='reading_score', index='school_name', columns='grade', aggfunc='mean')"
   ]
  },
  {
   "cell_type": "code",
   "execution_count": 270,
   "metadata": {},
   "outputs": [],
   "source": [
    "# Define spending bins and labels for school spending categories.\n",
    "spending_bins = [0, 585, 630, 645, 680]\n",
    "spending_labels = [\"<$585\", \"$585-630\", \"$630-645\", \"$645-680\"]\n",
    "\n",
    "# Categorize schools into spending ranges based on per student budget.\n",
    "school_summary_df['Spending Ranges (Per Student)'] = pd.cut(school_summary_df['Per Student Budget'], spending_bins, labels=spending_labels)\n",
    "\n",
    "# Group schools by spending range and calculate the mean scores and passing percentages.\n",
    "spending_summary = school_summary_df.groupby('Spending Ranges (Per Student)').agg({\n",
    "    \"Average Math Score\": \"mean\",\n",
    "    \"Average Reading Score\": \"mean\",\n",
    "    \"% Passing Math\": \"mean\",\n",
    "    \"% Passing Reading\": \"mean\",\n",
    "    \"% Overall Passing\": \"mean\"})"
   ]
  },
  {
   "cell_type": "code",
   "execution_count": 271,
   "metadata": {},
   "outputs": [],
   "source": [
    "# Define bins and labels for school size categories.\n",
    "size_bins = [0, 1000, 2000, 5000]\n",
    "size_labels = [\"Small (<1000)\", \"Medium (1000-2000)\", \"Large (2000-5000)\"]\n",
    "\n",
    "# Categorize schools based on their total student count into size ranges.\n",
    "school_summary_df['School Size'] = pd.cut(school_summary_df['Total Students'], size_bins, labels=size_labels)\n",
    "\n",
    "# Group schools by size category and calculate the mean scores and passing percentages.\n",
    "size_summary = school_summary_df.groupby('School Size').agg({\n",
    "    \"Average Math Score\": \"mean\",\n",
    "    \"Average Reading Score\": \"mean\",\n",
    "    \"% Passing Math\": \"mean\",\n",
    "    \"% Passing Reading\": \"mean\",\n",
    "    \"% Overall Passing\": \"mean\"})"
   ]
  }
 ],
 "metadata": {
  "kernelspec": {
   "display_name": "Python 3",
   "language": "python",
   "name": "python3"
  },
  "language_info": {
   "codemirror_mode": {
    "name": "ipython",
    "version": 3
   },
   "file_extension": ".py",
   "mimetype": "text/x-python",
   "name": "python",
   "nbconvert_exporter": "python",
   "pygments_lexer": "ipython3",
   "version": "3.12.0rc3"
  },
  "orig_nbformat": 4
 },
 "nbformat": 4,
 "nbformat_minor": 2
}
