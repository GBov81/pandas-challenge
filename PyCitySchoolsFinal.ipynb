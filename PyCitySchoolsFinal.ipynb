{
 "cells": [
  {
   "cell_type": "code",
   "execution_count": 5,
   "metadata": {},
   "outputs": [
    {
     "name": "stdout",
     "output_type": "stream",
     "text": [
      "          School ID          size        budget    Student ID  reading_score  \\\n",
      "count  39170.000000  39170.000000  3.917000e+04  39170.000000    39170.00000   \n",
      "mean       6.978172   3332.957110  2.117241e+06  19584.500000       81.87784   \n",
      "std        4.444329   1323.914069  8.749987e+05  11307.549359       10.23958   \n",
      "min        0.000000    427.000000  2.480870e+05      0.000000       63.00000   \n",
      "25%        3.000000   1858.000000  1.081356e+06   9792.250000       73.00000   \n",
      "50%        7.000000   2949.000000  1.910635e+06  19584.500000       82.00000   \n",
      "75%       11.000000   4635.000000  3.022020e+06  29376.750000       91.00000   \n",
      "max       14.000000   4976.000000  3.124928e+06  39169.000000       99.00000   \n",
      "\n",
      "         math_score  \n",
      "count  39170.000000  \n",
      "mean      78.985371  \n",
      "std       12.309968  \n",
      "min       55.000000  \n",
      "25%       69.000000  \n",
      "50%       79.000000  \n",
      "75%       89.000000  \n",
      "max       99.000000  \n",
      "school_name\n",
      "Bailey High School       4976 Total students\n",
      "Cabrera High School      1858 Total students\n",
      "Figueroa High School     2949 Total students\n",
      "Ford High School         2739 Total students\n",
      "Griffin High School      1468 Total students\n",
      "Hernandez High School    4635 Total students\n",
      "Holden High School        427 Total students\n",
      "Huang High School        2917 Total students\n",
      "Johnson High School      4761 Total students\n",
      "Pena High School          962 Total students\n",
      "Rodriguez High School    3999 Total students\n",
      "Shelton High School      1761 Total students\n",
      "Thomas High School       1635 Total students\n",
      "Wilson High School       2283 Total students\n",
      "Wright High School       1800 Total students\n",
      "Name: Student ID, dtype: object\n"
     ]
    }
   ],
   "source": [
    "import pandas as pd\n",
    "merged_df = pd.read_csv('https://raw.githubusercontent.com/GBov81/pandas-challenge/main/schools_complete.csv')\\\n",
    "    .merge(pd.read_csv('https://raw.githubusercontent.com/GBov81/pandas-challenge/main/students_complete.csv'), on='school_name')\n",
    "print(merged_df.describe())\n",
    "print(merged_df.groupby('school_name')['Student ID'].count().astype(str) + \" Total students\")\n"
   ]
  }
 ],
 "metadata": {
  "kernelspec": {
   "display_name": "Python 3",
   "language": "python",
   "name": "python3"
  },
  "language_info": {
   "codemirror_mode": {
    "name": "ipython",
    "version": 3
   },
   "file_extension": ".py",
   "mimetype": "text/x-python",
   "name": "python",
   "nbconvert_exporter": "python",
   "pygments_lexer": "ipython3",
   "version": "3.12.0rc3"
  },
  "orig_nbformat": 4
 },
 "nbformat": 4,
 "nbformat_minor": 2
}
